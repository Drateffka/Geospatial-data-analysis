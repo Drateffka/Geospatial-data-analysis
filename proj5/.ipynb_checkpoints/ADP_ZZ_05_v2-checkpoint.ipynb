{
  "cells": [
    {
      "cell_type": "markdown",
      "source": [
        "# Analiza danych przestrzennych - ćwiczenia laboratoryjne 2022/2023\n",
        "\n",
        "Ten notatnik zalicza się do grupy zestawów zadań, na podstawie których odbywa się zaliczenie ćwiczeń i podlega zwrotowi do oceny w ustalonym na zajęciach terminie.\n",
        "\n",
        "Uwagi ogólne:\n",
        "- Podczas wykonywania zadań należy korzystać wyłącznie z pakietów zaimportowanych na początku notatnika oraz z pakietów wchodzących w skład standardowej biblioteki Pythona, które można zaimportować samodzielnie we wskazanej komórce.\n",
        "- Swoje rozwiązania należy wprowadzać wyłącznie w miejce następujących fragmentów kodu:<br/> ` # YOUR CODE HERE`<br/> ` raise NotImplementedError()`<br/> Nie należy w żaden sposób modyfikować pozostałych fragmentów kodu oraz elementów notatnika, w szczególności dodawać lub usuwać komórek oraz zmieniać nazwy pliku.\n",
        "- Jeżeli zestaw zadań wymaga skorzystania z funkcji przygotowanych w ramach wcześniejszych zestawów zadań należy je umieścić we wskazanej komórce.\n",
        "- Wszystkie wykresy powinny być wykonane w jednolitym, przejrzystym i czytelnym stylu, mieć nadane tytuły, opisane osie oraz odpowiednio dobrany rozmiar, wielkość punktów i grubość linii. Proporcje osi wykresów przedstawiających rozkłady punktów powinny być dobrane tak, aby wykresy odzwierciedlały rzeczywisty rozkład punktów w przestrzeni.\n",
        "- Zadania, które powodują wyświetlenie komunikatu o błędzie przerywającym wykonywanie kodu nie podlegają ocenie.\n",
        "\n",
        "Przed odesłaniem zestawu zadań do oceny proszę uzupełnić komórkę z danymi autorów rozwiązania (`NAME` - nazwa grupy, `COLLABORATORS` - imiona, nazwiska i numery indeksów członków grupy) oraz upewnić się, że notatnik działa zgodnie z oczekiwaniami. W tym celu należy skorzystać z opcji **Restart Kernel and Run All Cells...** dostępnej na górnej belce notatnika pod symbolem $\\blacktriangleright\\blacktriangleright$. "
      ],
      "metadata": {
        "deletable": false,
        "editable": false,
        "nbgrader": {
          "cell_type": "markdown",
          "checksum": "a4d572b9cb35f7417343f3db3cd5a898",
          "grade": false,
          "grade_id": "cell-fcd2666579131b77",
          "locked": true,
          "schema_version": 3,
          "solution": false,
          "task": false
        },
        "tags": []
      },
      "id": "b0f07467"
    },
    {
      "cell_type": "code",
      "source": [
        "NAME = \"\"\n",
        "COLLABORATORS = \"\""
      ],
      "outputs": [],
      "execution_count": null,
      "metadata": {},
      "id": "61fb29e6"
    },
    {
      "cell_type": "markdown",
      "source": [
        "---"
      ],
      "metadata": {
        "deletable": false,
        "editable": false,
        "nbgrader": {
          "cell_type": "markdown",
          "checksum": "eddc8826810e4a6f7bf68319da334bd9",
          "grade": false,
          "grade_id": "cell-109006d425e5cf83",
          "locked": true,
          "schema_version": 3,
          "solution": false,
          "task": false
        },
        "tags": []
      },
      "id": "4a2936cd"
    },
    {
      "cell_type": "markdown",
      "source": [
        "## Zestaw zadań 5: Badanie relacji między punktami (część 2)"
      ],
      "metadata": {
        "deletable": false,
        "editable": false,
        "nbgrader": {
          "cell_type": "markdown",
          "checksum": "b3753fdf6156c77646a416f9a2e19e55",
          "grade": false,
          "grade_id": "cell-be413733df21fa86",
          "locked": true,
          "schema_version": 3,
          "solution": false,
          "task": false
        },
        "tags": []
      },
      "id": "d882ae69-936a-49a4-a902-2ae4df2f4d89"
    },
    {
      "cell_type": "code",
      "source": [
        "import numpy as np\n",
        "import pandas as pd\n",
        "import scipy as sp\n",
        "import matplotlib as mpl\n",
        "import matplotlib.pyplot as plt\n",
        "import seaborn as sns"
      ],
      "outputs": [],
      "execution_count": null,
      "metadata": {
        "deletable": false,
        "editable": false,
        "nbgrader": {
          "cell_type": "code",
          "checksum": "07631c4e2daf7caf9f0ed9a374bafc99",
          "grade": false,
          "grade_id": "cell-baaf088fa7f91aec",
          "locked": true,
          "schema_version": 3,
          "solution": false,
          "task": false
        },
        "tags": []
      },
      "id": "7cfdd3da-1a13-4ed2-bda3-cd76a85ae18f"
    },
    {
      "cell_type": "code",
      "source": [
        "# Miejsce do importu pakietów wchodzących w skład standardowej biblioteki Pythona oraz ustawienie opcji wykorzystywanych pakietów\n",
        "sns.set() \n",
        "sns.set_theme(style=\"whitegrid\")"
      ],
      "outputs": [],
      "execution_count": null,
      "metadata": {},
      "id": "ad7830f7-e23d-4f0e-8d49-dc26fa03742d"
    },
    {
      "cell_type": "code",
      "source": [
        "# Miejsce do wklejenie funkcji ze wcześniejszych zestawów zadań\n",
        "# YOUR CODE HERE\n",
        "raise NotImplementedError()"
      ],
      "outputs": [],
      "execution_count": null,
      "metadata": {
        "deletable": false,
        "nbgrader": {
          "cell_type": "code",
          "checksum": "5e21d8dca6b79b399dc8ed524cfa7b27",
          "grade": true,
          "grade_id": "cell-a46c08df43df6fd7",
          "locked": false,
          "points": 0,
          "schema_version": 3,
          "solution": true,
          "task": false
        },
        "tags": []
      },
      "id": "bf1b648a-9423-4903-8b13-86e1fc38c3a7"
    },
    {
      "cell_type": "markdown",
      "source": [
        "### Przygotowanie danych\n",
        "\n",
        "Korzystając z funkcji przygotowanych w ramach pierwszego zestawu zadań wygeneruj rozkłady punktowe o podanych paramatrach.\n",
        "\n",
        "Jednorodny rozkład Poissona:\n",
        " - intensywność procesu: 2.5\n",
        "\n",
        "Rozkład regularny z komponentem losowym:\n",
        "- liczba punktów w poziomie i w pionie: 15x15\n",
        "- komponent losowy: 0.75\n",
        "\n",
        "Rozkład Materna:\n",
        " - intensywność procesu macierzystego: 0.3\n",
        " - intensywność procesu potomnego: 5\n",
        " - promień klastra: 0.75\n",
        " \n",
        "Parametry identyczne dla wszystkich rozkładów:\n",
        " - zakres wartości współrzędnej x: [0, 10]\n",
        " - zakres wartości współrzędnej y: [0, 10]\n",
        " \n",
        "UWAGA! Dane do wygenerowania są identyczne jak w poprzednim zestawie zadań."
      ],
      "metadata": {
        "deletable": false,
        "editable": false,
        "nbgrader": {
          "cell_type": "markdown",
          "checksum": "059a00c92319d03fc0e47bad06a760d6",
          "grade": false,
          "grade_id": "cell-bf683202cc9a7b26",
          "locked": true,
          "schema_version": 3,
          "solution": false,
          "task": false
        },
        "tags": []
      },
      "id": "0ed92c66-bc02-4786-9a35-27bea2f61fb4"
    },
    {
      "cell_type": "code",
      "source": [
        "# YOUR CODE HERE\n",
        "raise NotImplementedError()"
      ],
      "outputs": [],
      "execution_count": null,
      "metadata": {
        "deletable": false,
        "nbgrader": {
          "cell_type": "code",
          "checksum": "b085f7854ac3a0e1fffedc785d20bbc3",
          "grade": true,
          "grade_id": "cell-f4b61e64294f2025",
          "locked": false,
          "points": 0,
          "schema_version": 3,
          "solution": true,
          "task": false
        },
        "tags": []
      },
      "id": "33adaec9-95a2-4f61-8658-259d267aad03"
    },
    {
      "cell_type": "markdown",
      "source": [
        "### Zadanie 1: Funkcja G (25 pkt)\n",
        "\n",
        "Przygotuj funkcję `g_function()`, która będzie generować dane niezbędne do wykonania wykresu funkcji G analizowanego rozkładu punktów oraz funkcję `g_function_poisson()`, która będzie generować dane niezbędne do wykonania wykresu teoretycznej funkcji G jednorodnego rozkładu Poissona danej wzorem: <br/>\n",
        "$G(d) = 1 - exp(-\\lambda \\pi d^2)$ <br/>\n",
        "gdzie: $\\lambda$ - intensywność procesu, $d$ - odległość.\n",
        "\n",
        "Następnie wykorzystaj przygotowane funkcje do wygnenerowania danych dla wszystkich przygotowanych rozkładów punktów. \n",
        "\n",
        "Przedstaw wyniki analizy graficznie w postaci wykresów liniowych funkcji G przygotowanych rozkładów punktów zestawionych z teoretyczną funkcją G jednorodnego rozkładu Poissona o intensywności $2.5$. Zestaw wyniki na pojedynczej figurze (siatka wykresów 2x3). Umieść analizowane rozkłady punktów w górnym wierszu, a wykresy funkcji G w dolnym wierszu figury. <br/>\n",
        "Uwaga! Porównywane wykresy funkcji G powinny zaczynać się od $d=0$ (co może wymagać uzupełnienia danych o 0 w obrębie funkcji `g_function()`) i kończyć na wartości $d$, dla której funkcja G analizowanego rozkładu punktów osiąga wartość 1.\n",
        "\n",
        "Algorytm postępowania:\n",
        "1) Dla każdego z punktów analizowanego rozkładu wyliczamy dystans do jego najbliższego sąsiada $d_{min}$.\n",
        "2) Konstruujemy funkcję G jako dystrybuantę rozkładu odległości: <br/>\n",
        "    $G(d) = \\frac{n_{d_{min} \\le d}}{n}$  <br/>\n",
        "    gdzie: $n_{d_{min} \\le d}$ - liczba punktów, dla których odległość do najbliższego sąsiada $d_{min}$ jest mniejsza lub równa $d$, $n$ - liczba punktów."
      ],
      "metadata": {
        "deletable": false,
        "editable": false,
        "nbgrader": {
          "cell_type": "markdown",
          "checksum": "41e4c7d5cba656ca8e28d97a8e6a11fc",
          "grade": false,
          "grade_id": "cell-9a00e5c6c5b95972",
          "locked": true,
          "schema_version": 3,
          "solution": false,
          "task": false
        },
        "tags": []
      },
      "id": "f76a460b-4f10-446d-b093-61e40b452a7b"
    },
    {
      "cell_type": "markdown",
      "source": [
        "#### a) Przygotowanie funkcji"
      ],
      "metadata": {
        "deletable": false,
        "editable": false,
        "nbgrader": {
          "cell_type": "markdown",
          "checksum": "2479f419bdb88324adc402fce3c997ce",
          "grade": false,
          "grade_id": "cell-6a96ee8f2ef386ed",
          "locked": true,
          "schema_version": 3,
          "solution": false,
          "task": false
        },
        "tags": []
      },
      "id": "9d96112f-d24f-4619-8daf-6476c0ad5ac0"
    },
    {
      "cell_type": "code",
      "source": [
        "def g_function(points):\n",
        "    \"\"\"\n",
        "    Parameters\n",
        "    -------\n",
        "    points: DataFrame\n",
        "        Tablica zawierająca dwie kolumny ze współrzędnymi punktów opisane jako \"X\" i \"Y\".\n",
        "    \n",
        "    Returns\n",
        "    -------\n",
        "    g: DataFrame\n",
        "        Tablica zawierająca dwie kolumny:\n",
        "        - \"D\" - zawierającą unikalne wartości odległości do najbliższego sąsiada uszeregowane od najmniejszej do największej wartości, dla których wyliczone zostały wartości funkcji G,\n",
        "        - \"G\" - zawierającą wyliczone wartości funkcji G.\n",
        "    \"\"\"   \n",
        "    # YOUR CODE HERE\n",
        "    raise NotImplementedError()\n",
        "    \n",
        "def g_function_poisson(d, intensity):\n",
        "    \"\"\"\n",
        "    Parameters\n",
        "    -------\n",
        "    d: array\n",
        "        Macierz zawierająca odległości, dla których ma zostać wyznaczona wartość funkcji G.\n",
        "    intensity: float\n",
        "        Liczba dodatnia określająca intensywność jednorodnego procesu Poissona.\n",
        "    \n",
        "    Returns\n",
        "    -------\n",
        "    g: DataFrame\n",
        "        Tablica zawierająca dwie kolumny:\n",
        "        - \"D\" - zawierającą unikalne wartości odległości do najbliższego sąsiada uszeregowane od najmniejszej do największej wartości, dla których wyliczone zostały wartości funkcji G,\n",
        "        - \"G\" - zawierającą wyliczone wartości funkcji G.\n",
        "    \"\"\"  \n",
        "    # YOUR CODE HERE\n",
        "    raise NotImplementedError()"
      ],
      "outputs": [],
      "execution_count": null,
      "metadata": {
        "deletable": false,
        "nbgrader": {
          "cell_type": "code",
          "checksum": "b792d676253784d0b61e3bf7c30f8bde",
          "grade": true,
          "grade_id": "cell-78e7ea53a61f9b34",
          "locked": false,
          "points": 15,
          "schema_version": 3,
          "solution": true,
          "task": false
        },
        "tags": []
      },
      "id": "c0758601-b30c-4889-a744-dd161d85b9bf"
    },
    {
      "cell_type": "markdown",
      "source": [
        "#### b) Wygenerowanie danych"
      ],
      "metadata": {
        "deletable": false,
        "editable": false,
        "nbgrader": {
          "cell_type": "markdown",
          "checksum": "a147f6a291a52a22f3397b9ff805865c",
          "grade": false,
          "grade_id": "cell-dbde34f83165003a",
          "locked": true,
          "schema_version": 3,
          "solution": false,
          "task": false
        },
        "tags": []
      },
      "id": "cc4950d5-9bfb-4a46-a6e2-18d639e42869"
    },
    {
      "cell_type": "code",
      "source": [
        "# YOUR CODE HERE\n",
        "raise NotImplementedError()"
      ],
      "outputs": [],
      "execution_count": null,
      "metadata": {
        "deletable": false,
        "nbgrader": {
          "cell_type": "code",
          "checksum": "8e99a3a4d329a0af0f9bf8942845e632",
          "grade": true,
          "grade_id": "cell-802c8a8db5042ac0",
          "locked": false,
          "points": 3,
          "schema_version": 3,
          "solution": true,
          "task": false
        },
        "tags": []
      },
      "id": "49bbb072-4596-4af2-9344-f705c862a0c5"
    },
    {
      "cell_type": "markdown",
      "source": [
        "#### c) Wizualizacja"
      ],
      "metadata": {
        "deletable": false,
        "editable": false,
        "nbgrader": {
          "cell_type": "markdown",
          "checksum": "c8f69227b14efb30dd74838115dcba33",
          "grade": false,
          "grade_id": "cell-12bf1fcdac557d38",
          "locked": true,
          "schema_version": 3,
          "solution": false,
          "task": false
        },
        "tags": []
      },
      "id": "e5785ef3-63a1-4cf1-8236-fc84b3b9e434"
    },
    {
      "cell_type": "code",
      "source": [
        "# YOUR CODE HERE\n",
        "raise NotImplementedError()"
      ],
      "outputs": [],
      "execution_count": null,
      "metadata": {
        "deletable": false,
        "nbgrader": {
          "cell_type": "code",
          "checksum": "f9325739d682af1635944dd1e6178160",
          "grade": true,
          "grade_id": "cell-7918cfee9051bcb4",
          "locked": false,
          "points": 7,
          "schema_version": 3,
          "solution": true,
          "task": false
        },
        "tags": []
      },
      "id": "e22318e9-1bc7-406e-b032-5b20c4858ac1"
    },
    {
      "cell_type": "markdown",
      "source": [
        "### Zadanie 2: Funkcja F (25 pkt)\n",
        "\n",
        "Przygotuj funkcję `f_function()`, która będzie generować dane niezbędne do wykonania wykresu funkcji F analizowanego rozkładu punktów oraz funkcję `f_function_poisson()`, która będzie generować  dane niezbędne do wykonania wykresu teoretycznej funkcji F jednorodnego rozkładu Poissona danej wzorem: <br/>\n",
        "$F(d) = 1 - exp(-\\lambda \\pi d^2)$ <br/>\n",
        "gdzie: $\\lambda$ - intensywność procesu, $d$ - odległość.\n",
        "\n",
        "Następnie wykorzystaj przygotowane funkcje do wygnenerowania danych dla wszystkich przygotowanych rozkładów punktów. \n",
        "\n",
        "Przedstaw wyniki analizy graficznie w postaci wykresów liniowych funkcji F przygotowanych rozkładów punktów zestawionych z teoretyczną funkcją F jednorodnego rozkładu Poissona o intensywności $2.5$. Zestaw wyniki na pojedynczej figurze (siatka wykresów 2x3). Umieść analizowane rozkłady punktów w górnym wierszu, a wykresy funkcji F w dolnym wierszu figury. <br/>\n",
        "Uwaga! Porównywane wykresy funkcji F powinny zaczynać się od $d=0$ (co może wymagać uzupełnienia danych o 0 w obrębie funkcji `f_function()`) i kończyć na wartości $d$, dla której funkcja F analizowanego rozkładu punktów osiąga wartość 1.\n",
        "\n",
        "Algorytm postępowania:\n",
        "1) Z wykorzystaniem procesu regularnego lub jednorodnego procesu Poissona generujemy w obrębie analizowanego rozkładu zestaw punktów pomiarowych.\n",
        "2) Dla każdego z punktów rozkładu pomiarowego wyliczamy dystans do jego najbliższego sąsiada z analizowanego rozkładu $d_{min}$.\n",
        "3) Konstruujemy funkcję F jako dystrybuantę rozkładu odległości: <br/>\n",
        "    $F(d) = \\frac{n_{d_{min} \\le d}}{n}$  <br/>\n",
        "    gdzie: $n_{d_{min} \\le d}$ - liczba punktów rozkładu pomiarowego, dla których odległość do najbliższego sąsiada z analizowanego rozkładu $d_{min}$ jest mniejsza lub równa $d$, $n$ - liczba punktów rozkładu pomiarowego.\n",
        "    \n",
        "Uwaga! Liczba punktów rozkładu pomiarowego jest istotna i wpływa na dokładność rozwiązania."
      ],
      "metadata": {
        "deletable": false,
        "editable": false,
        "nbgrader": {
          "cell_type": "markdown",
          "checksum": "0093f06b91d05a2434f338f4a7452433",
          "grade": false,
          "grade_id": "cell-792b6aca338a7bf5",
          "locked": true,
          "schema_version": 3,
          "solution": false,
          "task": false
        },
        "tags": []
      },
      "id": "27264f13-e275-454d-802b-62a66bff8bac"
    },
    {
      "cell_type": "markdown",
      "source": [
        "#### a) Przygotowanie funkcji"
      ],
      "metadata": {
        "deletable": false,
        "editable": false,
        "nbgrader": {
          "cell_type": "markdown",
          "checksum": "028c94df99d321bd19916dd99d44c9ee",
          "grade": false,
          "grade_id": "cell-4ad0c51c87aa7102",
          "locked": true,
          "schema_version": 3,
          "solution": false,
          "task": false
        },
        "tags": []
      },
      "id": "6001c63d-8ae3-4255-b13b-fa8b1fef1de1"
    },
    {
      "cell_type": "code",
      "source": [
        "def f_function(points, test_points):\n",
        "    \"\"\"\n",
        "    Parameters\n",
        "    -------\n",
        "    points: DataFrame\n",
        "        Tablica zawierająca dwie kolumny ze współrzędnymi punktów analizowanego rozkłądu opisane jako \"X\" i \"Y\".\n",
        "    test_points: DataFrame\n",
        "        Tablica zawierająca dwie kolumny ze współrzędnymi punktów pomiarowych, dla których mają zostać wyznaczone odległości\n",
        "        do najbliższego sąsiada z analizowanego rozkładu opisane jako \"X\" i \"Y\".\n",
        "    \n",
        "    Returns\n",
        "    -------\n",
        "    f: DataFrame\n",
        "        Tablica zawierająca dwie kolumny:\n",
        "        - \"D\" - zawierającą unikalne wartości odległości do najbliższego sąsiada uszeregowane od najmniejszej do największej wartości, dla których wyliczone zostały wartości funkcji F,\n",
        "        - \"F\" - zawierającą wyliczone wartości funkcji F.\n",
        "    \"\"\"   \n",
        "    # YOUR CODE HERE\n",
        "    raise NotImplementedError()\n",
        "    \n",
        "def f_function_poisson(d, intensity):\n",
        "    \"\"\"\n",
        "    Parameters\n",
        "    -------\n",
        "    d: array\n",
        "        Macierz zawierająca odległości, dla których ma zostać wyznaczona wartość funkcji F.\n",
        "    intensity: float\n",
        "        Liczba dodatnia określająca intensywność jednorodnego procesu Poissona.\n",
        "\n",
        "    Returns\n",
        "    -------\n",
        "    f: DataFrame\n",
        "        Tablica zawierająca dwie kolumny:\n",
        "        - \"D\" - zawierającą unikalne wartości odległości do najbliższego sąsiada uszeregowane od najmniejszej do największej wartości, dla których wyliczone zostały wartości funkcji F,\n",
        "        - \"F\" - zawierającą wyliczone wartości funkcji F.\n",
        "    \"\"\"  \n",
        "    # YOUR CODE HERE\n",
        "    raise NotImplementedError()"
      ],
      "outputs": [],
      "execution_count": null,
      "metadata": {
        "deletable": false,
        "nbgrader": {
          "cell_type": "code",
          "checksum": "cdcf9599205998552001735d1410c9d7",
          "grade": true,
          "grade_id": "cell-4124abb5448e69f9",
          "locked": false,
          "points": 15,
          "schema_version": 3,
          "solution": true,
          "task": false
        },
        "tags": []
      },
      "id": "0506d116-9973-4220-9584-8ea67ed64c87"
    },
    {
      "cell_type": "markdown",
      "source": [
        "#### b) Wygenerowanie danych"
      ],
      "metadata": {
        "deletable": false,
        "editable": false,
        "nbgrader": {
          "cell_type": "markdown",
          "checksum": "5f97608d9fa651924b6c6f433b4e892b",
          "grade": false,
          "grade_id": "cell-f5e429399234f312",
          "locked": true,
          "schema_version": 3,
          "solution": false,
          "task": false
        },
        "tags": []
      },
      "id": "3f4b235e-3d2b-4bbe-853c-5a2460505ad2"
    },
    {
      "cell_type": "code",
      "source": [
        "# YOUR CODE HERE\n",
        "raise NotImplementedError()"
      ],
      "outputs": [],
      "execution_count": null,
      "metadata": {
        "deletable": false,
        "nbgrader": {
          "cell_type": "code",
          "checksum": "8e1fda0844e89425c411ce0228b7c72c",
          "grade": true,
          "grade_id": "cell-3642c42670a5da2b",
          "locked": false,
          "points": 3,
          "schema_version": 3,
          "solution": true,
          "task": false
        },
        "tags": []
      },
      "id": "8ff13863-9b86-4819-9eb9-ebb6701c1c06"
    },
    {
      "cell_type": "markdown",
      "source": [
        "#### c) Wizualizacja"
      ],
      "metadata": {
        "deletable": false,
        "editable": false,
        "nbgrader": {
          "cell_type": "markdown",
          "checksum": "489c398a4391a2ec8823b96541855ba5",
          "grade": false,
          "grade_id": "cell-67cbb8ff558cb62c",
          "locked": true,
          "schema_version": 3,
          "solution": false,
          "task": false
        },
        "tags": []
      },
      "id": "5860f5a4-2d16-4597-a393-bf2f50af41fe"
    },
    {
      "cell_type": "code",
      "source": [
        "# YOUR CODE HERE\n",
        "raise NotImplementedError()"
      ],
      "outputs": [],
      "execution_count": null,
      "metadata": {
        "deletable": false,
        "nbgrader": {
          "cell_type": "code",
          "checksum": "2639b73cb11a8ed0a8a5a18434705da9",
          "grade": true,
          "grade_id": "cell-3b3177d764da72b8",
          "locked": false,
          "points": 7,
          "schema_version": 3,
          "solution": true,
          "task": false
        },
        "tags": []
      },
      "id": "c4f3d4ae-6ed8-4fe7-a753-36fd2ee43dee"
    }
  ],
  "metadata": {
    "kernelspec": {
      "display_name": "Python 3 (ipykernel)",
      "language": "python",
      "name": "python3"
    },
    "language_info": {
      "codemirror_mode": {
        "name": "ipython",
        "version": 3
      },
      "file_extension": ".py",
      "mimetype": "text/x-python",
      "name": "python",
      "nbconvert_exporter": "python",
      "pygments_lexer": "ipython3",
      "version": "3.9.12"
    },
    "nteract": {
      "version": "nteract-front-end@1.0.0"
    }
  },
  "nbformat": 4,
  "nbformat_minor": 5
}