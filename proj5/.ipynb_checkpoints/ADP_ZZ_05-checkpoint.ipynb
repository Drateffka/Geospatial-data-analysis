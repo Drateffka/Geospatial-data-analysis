{
 "cells": [
  {
   "cell_type": "markdown",
   "id": "b0f07467",
   "metadata": {
    "deletable": false,
    "editable": false,
    "nbgrader": {
     "cell_type": "markdown",
     "checksum": "a4d572b9cb35f7417343f3db3cd5a898",
     "grade": false,
     "grade_id": "cell-fcd2666579131b77",
     "locked": true,
     "schema_version": 3,
     "solution": false,
     "task": false
    },
    "tags": []
   },
   "source": [
    "# Analiza danych przestrzennych - ćwiczenia laboratoryjne 2022/2023\n",
    "\n",
    "Ten notatnik zalicza się do grupy zestawów zadań, na podstawie których odbywa się zaliczenie ćwiczeń i podlega zwrotowi do oceny w ustalonym na zajęciach terminie.\n",
    "\n",
    "Uwagi ogólne:\n",
    "- Podczas wykonywania zadań należy korzystać wyłącznie z pakietów zaimportowanych na początku notatnika oraz z pakietów wchodzących w skład standardowej biblioteki Pythona, które można zaimportować samodzielnie we wskazanej komórce.\n",
    "- Swoje rozwiązania należy wprowadzać wyłącznie w miejce następujących fragmentów kodu:<br/> ` # YOUR CODE HERE`<br/> ` raise NotImplementedError()`<br/> Nie należy w żaden sposób modyfikować pozostałych fragmentów kodu oraz elementów notatnika, w szczególności dodawać lub usuwać komórek oraz zmieniać nazwy pliku.\n",
    "- Jeżeli zestaw zadań wymaga skorzystania z funkcji przygotowanych w ramach wcześniejszych zestawów zadań należy je umieścić we wskazanej komórce.\n",
    "- Wszystkie wykresy powinny być wykonane w jednolitym, przejrzystym i czytelnym stylu, mieć nadane tytuły, opisane osie oraz odpowiednio dobrany rozmiar, wielkość punktów i grubość linii. Proporcje osi wykresów przedstawiających rozkłady punktów powinny być dobrane tak, aby wykresy odzwierciedlały rzeczywisty rozkład punktów w przestrzeni.\n",
    "- Zadania, które powodują wyświetlenie komunikatu o błędzie przerywającym wykonywanie kodu nie podlegają ocenie.\n",
    "\n",
    "Przed odesłaniem zestawu zadań do oceny proszę uzupełnić komórkę z danymi autorów rozwiązania (`NAME` - nazwa grupy, `COLLABORATORS` - imiona, nazwiska i numery indeksów członków grupy) oraz upewnić się, że notatnik działa zgodnie z oczekiwaniami. W tym celu należy skorzystać z opcji **Restart Kernel and Run All Cells...** dostępnej na górnej belce notatnika pod symbolem $\\blacktriangleright\\blacktriangleright$. "
   ]
  },
  {
   "cell_type": "code",
   "execution_count": null,
   "id": "61fb29e6",
   "metadata": {},
   "outputs": [],
   "source": [
    "NAME = \"\"\n",
    "COLLABORATORS = \"\""
   ]
  },
  {
   "cell_type": "markdown",
   "id": "4a2936cd",
   "metadata": {
    "deletable": false,
    "editable": false,
    "nbgrader": {
     "cell_type": "markdown",
     "checksum": "eddc8826810e4a6f7bf68319da334bd9",
     "grade": false,
     "grade_id": "cell-109006d425e5cf83",
     "locked": true,
     "schema_version": 3,
     "solution": false,
     "task": false
    },
    "tags": []
   },
   "source": [
    "---"
   ]
  },
  {
   "cell_type": "markdown",
   "id": "d882ae69-936a-49a4-a902-2ae4df2f4d89",
   "metadata": {
    "deletable": false,
    "editable": false,
    "nbgrader": {
     "cell_type": "markdown",
     "checksum": "b3753fdf6156c77646a416f9a2e19e55",
     "grade": false,
     "grade_id": "cell-be413733df21fa86",
     "locked": true,
     "schema_version": 3,
     "solution": false,
     "task": false
    },
    "tags": []
   },
   "source": [
    "## Zestaw zadań 5: Badanie relacji między punktami (część 2)"
   ]
  },
  {
   "cell_type": "code",
   "execution_count": null,
   "id": "7cfdd3da-1a13-4ed2-bda3-cd76a85ae18f",
   "metadata": {
    "deletable": false,
    "editable": false,
    "nbgrader": {
     "cell_type": "code",
     "checksum": "07631c4e2daf7caf9f0ed9a374bafc99",
     "grade": false,
     "grade_id": "cell-baaf088fa7f91aec",
     "locked": true,
     "schema_version": 3,
     "solution": false,
     "task": false
    },
    "tags": []
   },
   "outputs": [],
   "source": [
    "import numpy as np\n",
    "import pandas as pd\n",
    "import scipy as sp\n",
    "import matplotlib as mpl\n",
    "import matplotlib.pyplot as plt\n",
    "import seaborn as sns"
   ]
  },
  {
   "cell_type": "code",
   "execution_count": null,
   "id": "ad7830f7-e23d-4f0e-8d49-dc26fa03742d",
   "metadata": {},
   "outputs": [],
   "source": [
    "# Miejsce do importu pakietów wchodzących w skład standardowej biblioteki Pythona oraz ustawienie opcji wykorzystywanych pakietów\n",
    "sns.set() \n",
    "sns.set_theme(style=\"whitegrid\")"
   ]
  },
  {
   "cell_type": "code",
   "execution_count": null,
   "id": "bf1b648a-9423-4903-8b13-86e1fc38c3a7",
   "metadata": {
    "deletable": false,
    "nbgrader": {
     "cell_type": "code",
     "checksum": "5e21d8dca6b79b399dc8ed524cfa7b27",
     "grade": true,
     "grade_id": "cell-a46c08df43df6fd7",
     "locked": false,
     "points": 0,
     "schema_version": 3,
     "solution": true,
     "task": false
    },
    "tags": []
   },
   "outputs": [],
   "source": [
    "# Miejsce do wklejenie funkcji ze wcześniejszych zestawów zadań\n",
    "# YOUR CODE HERE\n",
    "\n",
    "def regular_on_rectangle(grid, random_component, x_lim, y_lim):\n",
    "    \"\"\"\n",
    "    Parameters\n",
    "    -------\n",
    "    grid: list\n",
    "        Lista określająca liczbę punktów w pionie i poziomie.\n",
    "        Przykład: [10, 10]\n",
    "    random_component: float\n",
    "        Liczba z przedziału [0, 1] określająca wielkość komponentu losowego.\n",
    "    x_lim: list\n",
    "        Lista określająca zakres wartości współrzędnej X.\n",
    "        Przykład: [0, 10]\n",
    "    y_lim: list\n",
    "        Lista określająca zakres wartości współrzędnej Y.\n",
    "        Przykład: [0, 10]   \n",
    "\n",
    "    Returns\n",
    "    -------\n",
    "    points: DataFrame\n",
    "        Tablica zawierająca dwie kolumny ze współrzędnymi punktów opisane jako \"X\" i \"Y\".\n",
    "    \"\"\"\n",
    "    # YOUR CODE HERE\n",
    "\n",
    "    # Creating variables containing distance between points\n",
    "    dx = (x_lim[1] - x_lim[0])/grid[0]\n",
    "    dy = (y_lim[1] - y_lim[0])/grid[1]\n",
    "\n",
    "    # Creating gird with regular gaps (without random component)\n",
    "    x = np.linspace(x_lim[0] + 0.5*dx, x_lim[1] - 0.5*dx, grid[0]) #arange\n",
    "    y = np.linspace(y_lim[0] + 0.5*dy, y_lim[1] - 0.5*dy, grid[1])\n",
    "    xy, yx = np.meshgrid(x, y)\n",
    "    \n",
    "    # Adding random component to our gird\n",
    "    rand_m1 = np.random.uniform(-0.5*dx,0.5*dx,size=grid)\n",
    "    rand_m2 = np.random.uniform(-0.5*dy,0.5*dy,size=grid)\n",
    "    \n",
    "    mx = xy + rand_m1\n",
    "    my = yx + rand_m2\n",
    "\n",
    "    # Flattening previously created matrices and creating required DataFrame\n",
    "    xx = mx.flatten()\n",
    "    yy = my.flatten()\n",
    "    points = pd.DataFrame([xx, yy]).transpose()\n",
    "    points.columns=[\"X\", \"Y\"]\n",
    "    return points\n",
    "\n",
    "\n",
    "def homogeneous_poisson_on_rectangle(intensity, x_lim, y_lim):\n",
    "    \"\"\"\n",
    "    Parameters\n",
    "    -------\n",
    "    intensity: float\n",
    "        Liczba dodatnia określająca intensywność procesu punktowego.\n",
    "    x_lim: list\n",
    "        Lista określająca zakres wartości współrzędnej X.\n",
    "        Przykład: [0, 10]\n",
    "    y_lim: list\n",
    "        Lista określająca zakres wartości współrzędnej Y.\n",
    "        Przykład: [0, 10]   \n",
    "    \n",
    "    Returns\n",
    "    -------\n",
    "    points: DataFrame\n",
    "        Tablica zawierająca dwie kolumny ze współrzędnymi punktów opisane jako \"X\" i \"Y\".\n",
    "    \"\"\" \n",
    "    # YOUR CODE HERE\n",
    "    \n",
    "    #drawing number of points from Poisson distribution\n",
    "    area = (x_lim[1]-x_lim[0])*(y_lim[1]-y_lim[0]);\n",
    "    w = intensity * area\n",
    "    n = np.random.poisson(w)\n",
    "    \n",
    "    #drawing coordinates of points from uniform distribution\n",
    "    x_tab = np.random.uniform(x_lim[0],x_lim[1],n)\n",
    "    y_tab = np.random.uniform(y_lim[0],y_lim[1],n)\n",
    "    \n",
    "    #creating DataFrame\n",
    "    points = pd.DataFrame({'X':x_tab,'Y':y_tab})\n",
    "    return points\n",
    "    \n",
    "def materna_on_rectangle(parent_intensity, daughter_intensity, cluster_radius, x_lim, y_lim):\n",
    "    \"\"\"\n",
    "    Parameters\n",
    "    -------\n",
    "    parent_intensity: float\n",
    "        Liczba dodatnia określająca intensywność macierzystego procesu punktowego.\n",
    "    daughter_intensity: float\n",
    "        Liczba dodatnia określająca intensywność potomnego procesu punktowego.\n",
    "    cluster_radius: float\n",
    "        Liczba dodatnia określająca promień generowanych klastrów.\n",
    "    x_lim: list\n",
    "        Lista określająca zakres wartości współrzędnej X.\n",
    "        Przykład: [0, 10]\n",
    "    y_lim: list\n",
    "        Lista określająca zakres wartości współrzędnej Y.\n",
    "        Przykład: [0, 10]   \n",
    "    \n",
    "    Returns\n",
    "    -------\n",
    "    points: DataFrame\n",
    "        Tablica zawierająca dwie kolumny ze współrzędnymi punktów opisane jako \"X\" i \"Y\".\n",
    "    \"\"\"\n",
    "    # YOUR CODE HERE\n",
    "\n",
    "    # Extending our area with a buffer\n",
    "    x_new = [x_lim[0] - cluster_radius, x_lim[1] + cluster_radius]\n",
    "    y_new = [y_lim[0] - cluster_radius, y_lim[1] + cluster_radius]\n",
    "\n",
    "    # Generating point by homogeneous Poisson process with parent_intensity as a parameter\n",
    "    points = homogeneous_poisson_on_rectangle(parent_intensity, x_new, y_new)\n",
    "   \n",
    "   # Generating new points around each previous points (within cluster_radius)\n",
    "    X=[]\n",
    "    Y=[]\n",
    "    for i in range(len(points['X'])):\n",
    "      # Triggering nex\n",
    "      number = np.random.poisson(daughter_intensity*np.pi*cluster_radius**2);\n",
    "      # Generating the (relative) locations in polar coordinates by simulating independent variables\n",
    "      theta=2*np.pi*np.random.uniform(0,1,number); \n",
    "      rho=cluster_radius*np.sqrt(np.random.uniform(0,1,number)); \n",
    "      # Converting from polar to Cartesian coordinates\n",
    "      dx = rho * np.cos(theta);\n",
    "      dy = rho * np.sin(theta);\n",
    "      # Translating points (by treating old points as a center of our buffer)\n",
    "      for j in range(number):\n",
    "        valueX=points.iloc[i, 0]+dx[j]\n",
    "        valueY=points.iloc[i, 1]+dy[j]\n",
    "        X.append(valueX)\n",
    "        Y.append(valueY)\n",
    "    \n",
    "    # Creating DatFrame\n",
    "    clustered=pd.DataFrame({\"X\": X, \"Y\":Y})\n",
    "\n",
    "    # Checking if some new point aren't within our area and if so - adding their indexes to a list\n",
    "    indexes=[]\n",
    "    for i, row in clustered.iterrows():\n",
    "      if(row[\"X\"] < x_lim[0] or row[\"X\"] > x_lim[1] or row[\"Y\"] < y_lim[0] or row[\"Y\"] > y_lim[1]):\n",
    "        indexes.append(i)\n",
    "\n",
    "    # Dropping points that are outside of the area\n",
    "    clustered.drop(clustered.index[indexes], inplace=True)\n",
    "    clustered.reset_index(drop=True, inplace=True)\n",
    "\n",
    "    return clustered\n",
    "\n",
    "def point_count_on_subregions(points, bins, x_lim, y_lim):\n",
    "    \"\"\"\n",
    "    Parameters\n",
    "    -------\n",
    "    points: DataFrame\n",
    "        Tablica zawierająca dwie kolumny ze współrzędnymi punktów opisane jako \"X\" i \"Y\".\n",
    "    bins: list\n",
    "        Lista określająca liczbę podobszarów w poziomie i pionie.\n",
    "        Przykład: [10, 10]\n",
    "    x_lim: list\n",
    "        Lista określająca zakres wartości współrzędnej X.\n",
    "        Przykład: [0, 10]\n",
    "    y_lim: list\n",
    "        Lista określająca zakres wartości współrzędnej Y.\n",
    "        Przykład: [0, 10]   \n",
    "\n",
    "    Returns\n",
    "    -------\n",
    "    bin_data: list\n",
    "        Lista zawierająca trzy macierze:\n",
    "        - 1D ze współrzędnymi krawędzi podobszarów na osi X,\n",
    "        - 1D ze współrzędnymi krawędzi podobszarów na osi Y,\n",
    "        - 2D z liczbą punków przypisanych do każdego z podobszarów.\n",
    "        Na przykład: [array([0, 1, 2]), array([0, 1, 2]), array([[7, 2], [4, 5]])]\n",
    "    \"\"\"\n",
    "    # YOUR CODE HERE\n",
    "\n",
    "    n_points,x_bins,y_bins = np.histogram2d(points['X'],points['Y'],bins=bins,range=[x_lim,y_lim])     \n",
    "    n_points = np.transpose(n_points)\n",
    "    \n",
    "    return [x_bins,y_bins,n_points]\n",
    "\n",
    "\n",
    "#raise NotImplementedError()"
   ]
  },
  {
   "cell_type": "markdown",
   "id": "0ed92c66-bc02-4786-9a35-27bea2f61fb4",
   "metadata": {
    "deletable": false,
    "editable": false,
    "nbgrader": {
     "cell_type": "markdown",
     "checksum": "059a00c92319d03fc0e47bad06a760d6",
     "grade": false,
     "grade_id": "cell-bf683202cc9a7b26",
     "locked": true,
     "schema_version": 3,
     "solution": false,
     "task": false
    },
    "tags": []
   },
   "source": [
    "### Przygotowanie danych\n",
    "\n",
    "Korzystając z funkcji przygotowanych w ramach pierwszego zestawu zadań wygeneruj rozkłady punktowe o podanych paramatrach.\n",
    "\n",
    "Jednorodny rozkład Poissona:\n",
    " - intensywność procesu: 2.5\n",
    "\n",
    "Rozkład regularny z komponentem losowym:\n",
    "- liczba punktów w poziomie i w pionie: 15x15\n",
    "- komponent losowy: 0.75\n",
    "\n",
    "Rozkład Materna:\n",
    " - intensywność procesu macierzystego: 0.3\n",
    " - intensywność procesu potomnego: 5\n",
    " - promień klastra: 0.75\n",
    " \n",
    "Parametry identyczne dla wszystkich rozkładów:\n",
    " - zakres wartości współrzędnej x: [0, 10]\n",
    " - zakres wartości współrzędnej y: [0, 10]\n",
    " \n",
    "UWAGA! Dane do wygenerowania są identyczne jak w poprzednim zestawie zadań."
   ]
  },
  {
   "cell_type": "code",
   "execution_count": null,
   "id": "33adaec9-95a2-4f61-8658-259d267aad03",
   "metadata": {
    "deletable": false,
    "nbgrader": {
     "cell_type": "code",
     "checksum": "b085f7854ac3a0e1fffedc785d20bbc3",
     "grade": true,
     "grade_id": "cell-f4b61e64294f2025",
     "locked": false,
     "points": 0,
     "schema_version": 3,
     "solution": true,
     "task": false
    },
    "tags": []
   },
   "outputs": [],
   "source": [
    "# YOUR CODE HERE\n",
    "\n",
    "x_lim=[0,10]\n",
    "y_lim=[0,10]\n",
    "poisson = homogeneous_poisson_on_rectangle(2.5, x_lim, y_lim)\n",
    "regular = regular_on_rectangle([15,15], 0.75, x_lim, y_lim)\n",
    "matern = materna_on_rectangle(0.3, 5, 0.75, x_lim, y_lim)\n",
    "\n",
    "#raise NotImplementedError()"
   ]
  },
  {
   "cell_type": "markdown",
   "id": "f76a460b-4f10-446d-b093-61e40b452a7b",
   "metadata": {
    "deletable": false,
    "editable": false,
    "nbgrader": {
     "cell_type": "markdown",
     "checksum": "41e4c7d5cba656ca8e28d97a8e6a11fc",
     "grade": false,
     "grade_id": "cell-9a00e5c6c5b95972",
     "locked": true,
     "schema_version": 3,
     "solution": false,
     "task": false
    },
    "tags": []
   },
   "source": [
    "### Zadanie 1: Funkcja G (25 pkt)\n",
    "\n",
    "Przygotuj funkcję `g_function()`, która będzie generować dane niezbędne do wykonania wykresu funkcji G analizowanego rozkładu punktów oraz funkcję `g_function_poisson()`, która będzie generować dane niezbędne do wykonania wykresu teoretycznej funkcji G jednorodnego rozkładu Poissona danej wzorem: <br/>\n",
    "$G(d) = 1 - exp(-\\lambda \\pi d^2)$ <br/>\n",
    "gdzie: $\\lambda$ - intensywność procesu, $d$ - odległość.\n",
    "\n",
    "Następnie wykorzystaj przygotowane funkcje do wygnenerowania danych dla wszystkich przygotowanych rozkładów punktów. \n",
    "\n",
    "Przedstaw wyniki analizy graficznie w postaci wykresów liniowych funkcji G przygotowanych rozkładów punktów zestawionych z teoretyczną funkcją G jednorodnego rozkładu Poissona o intensywności $2.5$. Zestaw wyniki na pojedynczej figurze (siatka wykresów 2x3). Umieść analizowane rozkłady punktów w górnym wierszu, a wykresy funkcji G w dolnym wierszu figury. <br/>\n",
    "Uwaga! Porównywane wykresy funkcji G powinny zaczynać się od $d=0$ (co może wymagać uzupełnienia danych o 0 w obrębie funkcji `g_function()`) i kończyć na wartości $d$, dla której funkcja G analizowanego rozkładu punktów osiąga wartość 1.\n",
    "\n",
    "Algorytm postępowania:\n",
    "1) Dla każdego z punktów analizowanego rozkładu wyliczamy dystans do jego najbliższego sąsiada $d_{min}$.\n",
    "2) Konstruujemy funkcję G jako dystrybuantę rozkładu odległości: <br/>\n",
    "    $G(d) = \\frac{n_{d_{min} \\le d}}{n}$  <br/>\n",
    "    gdzie: $n_{d_{min} \\le d}$ - liczba punktów, dla których odległość do najbliższego sąsiada $d_{min}$ jest mniejsza lub równa $d$, $n$ - liczba punktów."
   ]
  },
  {
   "cell_type": "markdown",
   "id": "9d96112f-d24f-4619-8daf-6476c0ad5ac0",
   "metadata": {
    "deletable": false,
    "editable": false,
    "nbgrader": {
     "cell_type": "markdown",
     "checksum": "2479f419bdb88324adc402fce3c997ce",
     "grade": false,
     "grade_id": "cell-6a96ee8f2ef386ed",
     "locked": true,
     "schema_version": 3,
     "solution": false,
     "task": false
    },
    "tags": []
   },
   "source": [
    "#### a) Przygotowanie funkcji"
   ]
  },
  {
   "cell_type": "code",
   "execution_count": null,
   "id": "c0758601-b30c-4889-a744-dd161d85b9bf",
   "metadata": {
    "deletable": false,
    "nbgrader": {
     "cell_type": "code",
     "checksum": "b792d676253784d0b61e3bf7c30f8bde",
     "grade": true,
     "grade_id": "cell-78e7ea53a61f9b34",
     "locked": false,
     "points": 15,
     "schema_version": 3,
     "solution": true,
     "task": false
    },
    "tags": []
   },
   "outputs": [],
   "source": [
    "def g_function(points):\n",
    "    \"\"\"\n",
    "    Parameters\n",
    "    -------\n",
    "    points: DataFrame\n",
    "        Tablica zawierająca dwie kolumny ze współrzędnymi punktów opisane jako \"X\" i \"Y\".\n",
    "    \n",
    "    Returns\n",
    "    -------\n",
    "    g: DataFrame\n",
    "        Tablica zawierająca dwie kolumny:\n",
    "        - \"D\" - zawierającą unikalne wartości odległości do najbliższego sąsiada uszeregowane od najmniejszej do największej wartości, dla których wyliczone zostały wartości funkcji G,\n",
    "        - \"G\" - zawierającą wyliczone wartości funkcji G.\n",
    "    \"\"\"   \n",
    "    # YOUR CODE HERE\n",
    "    \n",
    "    d_list =[]\n",
    "    \n",
    "    # creating list of distances between each points and finding minimum distance\n",
    "    for index, row in points.iterrows():\n",
    "        d = np.sqrt((points[\"X\"] - row[\"X\"])**2 + (points[\"Y\"] - row[\"Y\"])**2)\n",
    "        d = d.drop(index)\n",
    "        mini = np.min(d)\n",
    "        d_list.append(mini)\n",
    "    \n",
    "    # determining unique distances and calculating number of each of them\n",
    "    unique, counts = np.unique(d_list, return_counts=True)\n",
    "\n",
    "    # calculating CDF\n",
    "    n=len(d_list)\n",
    "    g=counts/n\n",
    "    g=np.cumsum(g)\n",
    "\n",
    "    g = np.insert(g,0,0)\n",
    "    g.sort()\n",
    "    unique = np.hstack([[0], unique])\n",
    "    \n",
    "    return pd.DataFrame({'D': unique, 'G': g})\n",
    "    \n",
    "    # raise NotImplementedError()\n",
    "    \n",
    "def g_function_poisson(d, intensity):\n",
    "    \"\"\"\n",
    "    Parameters\n",
    "    -------\n",
    "    d: array\n",
    "        Macierz zawierająca odległości, dla których ma zostać wyznaczona wartość funkcji G.\n",
    "    intensity: float\n",
    "        Liczba dodatnia określająca intensywność jednorodnego procesu Poissona.\n",
    "    \n",
    "    Returns\n",
    "    -------\n",
    "    g: DataFrame\n",
    "        Tablica zawierająca dwie kolumny:\n",
    "        - \"D\" - zawierającą unikalne wartości odległości do najbliższego sąsiada uszeregowane od najmniejszej do największej wartości, dla których wyliczone zostały wartości funkcji G,\n",
    "        - \"G\" - zawierającą wyliczone wartości funkcji G.\n",
    "    \"\"\"  \n",
    "    # YOUR CODE HERE\n",
    "    \n",
    "    # calculating theoretical G function\n",
    "    g = 1 - np.exp(-intensity*np.pi * d['D']**2)\n",
    "    \n",
    "    return pd.DataFrame({'D': d['D'], 'G': g})\n",
    "    \n",
    "    # raise NotImplementedError()"
   ]
  },
  {
   "cell_type": "markdown",
   "id": "cc4950d5-9bfb-4a46-a6e2-18d639e42869",
   "metadata": {
    "deletable": false,
    "editable": false,
    "nbgrader": {
     "cell_type": "markdown",
     "checksum": "a147f6a291a52a22f3397b9ff805865c",
     "grade": false,
     "grade_id": "cell-dbde34f83165003a",
     "locked": true,
     "schema_version": 3,
     "solution": false,
     "task": false
    },
    "tags": []
   },
   "source": [
    "#### b) Wygenerowanie danych"
   ]
  },
  {
   "cell_type": "code",
   "execution_count": null,
   "id": "49bbb072-4596-4af2-9344-f705c862a0c5",
   "metadata": {
    "deletable": false,
    "nbgrader": {
     "cell_type": "code",
     "checksum": "8e99a3a4d329a0af0f9bf8942845e632",
     "grade": true,
     "grade_id": "cell-802c8a8db5042ac0",
     "locked": false,
     "points": 3,
     "schema_version": 3,
     "solution": true,
     "task": false
    },
    "tags": []
   },
   "outputs": [],
   "source": [
    "# YOUR CODE HERE\n",
    "\n",
    "g_emp_p=g_function(poisson)\n",
    "g_teor_p=g_function_poisson(g_emp_p, 2.5)\n",
    "g_emp_m=g_function(matern)\n",
    "g_teor_m=g_function_poisson(g_emp_m, 2.5)\n",
    "g_emp_r=g_function(regular)\n",
    "g_teor_r=g_function_poisson(g_emp_r, 2.5)\n",
    "\n",
    "# raise NotImplementedError()"
   ]
  },
  {
   "cell_type": "markdown",
   "id": "e5785ef3-63a1-4cf1-8236-fc84b3b9e434",
   "metadata": {
    "deletable": false,
    "editable": false,
    "nbgrader": {
     "cell_type": "markdown",
     "checksum": "c8f69227b14efb30dd74838115dcba33",
     "grade": false,
     "grade_id": "cell-12bf1fcdac557d38",
     "locked": true,
     "schema_version": 3,
     "solution": false,
     "task": false
    },
    "tags": []
   },
   "source": [
    "#### c) Wizualizacja"
   ]
  },
  {
   "cell_type": "code",
   "execution_count": null,
   "id": "e22318e9-1bc7-406e-b032-5b20c4858ac1",
   "metadata": {
    "deletable": false,
    "nbgrader": {
     "cell_type": "code",
     "checksum": "f9325739d682af1635944dd1e6178160",
     "grade": true,
     "grade_id": "cell-7918cfee9051bcb4",
     "locked": false,
     "points": 7,
     "schema_version": 3,
     "solution": true,
     "task": false
    },
    "tags": []
   },
   "outputs": [],
   "source": [
    "# YOUR CODE HERE\n",
    "\n",
    "y_lim2=[0,1.01]\n",
    "\n",
    "fig,ax=plt.subplots(2,3,figsize=(20,15))\n",
    "\n",
    "ax[0,0].scatter(poisson['X'], poisson['Y'], s=2, c='black')\n",
    "ax[0,0].set(title=\"Poisson\",aspect='equal',xlim=x_lim, ylim=y_lim)\n",
    "\n",
    "ax[0,1].scatter(regular['X'], regular['Y'], s=2, c='black')\n",
    "ax[0,1].set(title=\"Regular\",aspect='equal',xlim=x_lim, ylim=y_lim)\n",
    "\n",
    "ax[0,2].scatter(matern['X'], matern['Y'], s=2, c='black')\n",
    "ax[0,2].set(title=\"Matern\",aspect='equal',xlim=x_lim, ylim=y_lim)\n",
    "\n",
    "ax[1,0].plot(g_teor_p['D'], g_teor_p['G'], c='blue', label=\"theor\")\n",
    "ax[1,0].plot(g_emp_p['D'], g_emp_p['G'], c='red', label=\"empir\")\n",
    "ax[1,0].set(title=\"G function (Poisson)\",aspect='equal', xlim=[0,max(g_emp_p['D'])], ylim=y_lim2)\n",
    "ax[1,0].legend()\n",
    "\n",
    "ax[1,1].plot(g_teor_r['D'], g_teor_r['G'], c='blue', label=\"theor\")\n",
    "ax[1,1].plot(g_emp_r['D'], g_emp_r['G'], c='red', label=\"empir\")\n",
    "ax[1,1].set(title=\"G function (regular)\",aspect='equal', xlim=[0,max(g_emp_r['D'])], ylim=y_lim2)\n",
    "ax[1,1].legend()\n",
    "\n",
    "ax[1,2].plot(g_teor_m['D'], g_teor_m['G'], c='blue', label=\"theor\")\n",
    "ax[1,2].plot(g_emp_m['D'], g_emp_m['G'], c='red', label=\"empir\")\n",
    "ax[1,2].set(title=\"G function (Matern)\",aspect='equal', xlim=[0,max(g_emp_m['D'])], ylim=y_lim2)\n",
    "ax[1,2].legend()\n",
    "plt.show()\n",
    "\n",
    "#raise NotImplementedError()"
   ]
  },
  {
   "cell_type": "markdown",
   "id": "27264f13-e275-454d-802b-62a66bff8bac",
   "metadata": {
    "deletable": false,
    "editable": false,
    "nbgrader": {
     "cell_type": "markdown",
     "checksum": "0093f06b91d05a2434f338f4a7452433",
     "grade": false,
     "grade_id": "cell-792b6aca338a7bf5",
     "locked": true,
     "schema_version": 3,
     "solution": false,
     "task": false
    },
    "tags": []
   },
   "source": [
    "### Zadanie 2: Funkcja F (25 pkt)\n",
    "\n",
    "Przygotuj funkcję `f_function()`, która będzie generować dane niezbędne do wykonania wykresu funkcji F analizowanego rozkładu punktów oraz funkcję `f_function_poisson()`, która będzie generować  dane niezbędne do wykonania wykresu teoretycznej funkcji F jednorodnego rozkładu Poissona danej wzorem: <br/>\n",
    "$F(d) = 1 - exp(-\\lambda \\pi d^2)$ <br/>\n",
    "gdzie: $\\lambda$ - intensywność procesu, $d$ - odległość.\n",
    "\n",
    "Następnie wykorzystaj przygotowane funkcje do wygnenerowania danych dla wszystkich przygotowanych rozkładów punktów. \n",
    "\n",
    "Przedstaw wyniki analizy graficznie w postaci wykresów liniowych funkcji F przygotowanych rozkładów punktów zestawionych z teoretyczną funkcją F jednorodnego rozkładu Poissona o intensywności $2.5$. Zestaw wyniki na pojedynczej figurze (siatka wykresów 2x3). Umieść analizowane rozkłady punktów w górnym wierszu, a wykresy funkcji F w dolnym wierszu figury. <br/>\n",
    "Uwaga! Porównywane wykresy funkcji F powinny zaczynać się od $d=0$ (co może wymagać uzupełnienia danych o 0 w obrębie funkcji `f_function()`) i kończyć na wartości $d$, dla której funkcja F analizowanego rozkładu punktów osiąga wartość 1.\n",
    "\n",
    "Algorytm postępowania:\n",
    "1) Z wykorzystaniem procesu regularnego lub jednorodnego procesu Poissona generujemy w obrębie analizowanego rozkładu zestaw punktów pomiarowych.\n",
    "2) Dla każdego z punktów rozkładu pomiarowego wyliczamy dystans do jego najbliższego sąsiada z analizowanego rozkładu $d_{min}$.\n",
    "3) Konstruujemy funkcję F jako dystrybuantę rozkładu odległości: <br/>\n",
    "    $F(d) = \\frac{n_{d_{min} \\le d}}{n}$  <br/>\n",
    "    gdzie: $n_{d_{min} \\le d}$ - liczba punktów rozkładu pomiarowego, dla których odległość do najbliższego sąsiada z analizowanego rozkładu $d_{min}$ jest mniejsza lub równa $d$, $n$ - liczba punktów rozkładu pomiarowego.\n",
    "    \n",
    "Uwaga! Liczba punktów rozkładu pomiarowego jest istotna i wpływa na dokładność rozwiązania."
   ]
  },
  {
   "cell_type": "markdown",
   "id": "6001c63d-8ae3-4255-b13b-fa8b1fef1de1",
   "metadata": {
    "deletable": false,
    "editable": false,
    "nbgrader": {
     "cell_type": "markdown",
     "checksum": "028c94df99d321bd19916dd99d44c9ee",
     "grade": false,
     "grade_id": "cell-4ad0c51c87aa7102",
     "locked": true,
     "schema_version": 3,
     "solution": false,
     "task": false
    },
    "tags": []
   },
   "source": [
    "#### a) Przygotowanie funkcji"
   ]
  },
  {
   "cell_type": "code",
   "execution_count": null,
   "id": "0506d116-9973-4220-9584-8ea67ed64c87",
   "metadata": {
    "deletable": false,
    "nbgrader": {
     "cell_type": "code",
     "checksum": "cdcf9599205998552001735d1410c9d7",
     "grade": true,
     "grade_id": "cell-4124abb5448e69f9",
     "locked": false,
     "points": 15,
     "schema_version": 3,
     "solution": true,
     "task": false
    },
    "tags": []
   },
   "outputs": [],
   "source": [
    "def f_function(points, test_points):\n",
    "    \"\"\"\n",
    "    Parameters\n",
    "    -------\n",
    "    points: DataFrame\n",
    "        Tablica zawierająca dwie kolumny ze współrzędnymi punktów analizowanego rozkłądu opisane jako \"X\" i \"Y\".\n",
    "    test_points: DataFrame\n",
    "        Tablica zawierająca dwie kolumny ze współrzędnymi punktów pomiarowych, dla których mają zostać wyznaczone odległości\n",
    "        do najbliższego sąsiada z analizowanego rozkładu opisane jako \"X\" i \"Y\".\n",
    "    \n",
    "    Returns\n",
    "    -------\n",
    "    f: DataFrame\n",
    "        Tablica zawierająca dwie kolumny:\n",
    "        - \"D\" - zawierającą unikalne wartości odległości do najbliższego sąsiada uszeregowane od najmniejszej do największej wartości, dla których wyliczone zostały wartości funkcji F,\n",
    "        - \"F\" - zawierającą wyliczone wartości funkcji F.\n",
    "    \"\"\"   \n",
    "    # YOUR CODE HERE\n",
    "    raise NotImplementedError()\n",
    "    \n",
    "def f_function_poisson(d, intensity):\n",
    "    \"\"\"\n",
    "    Parameters\n",
    "    -------\n",
    "    d: array\n",
    "        Macierz zawierająca odległości, dla których ma zostać wyznaczona wartość funkcji F.\n",
    "    intensity: float\n",
    "        Liczba dodatnia określająca intensywność jednorodnego procesu Poissona.\n",
    "\n",
    "    Returns\n",
    "    -------\n",
    "    f: DataFrame\n",
    "        Tablica zawierająca dwie kolumny:\n",
    "        - \"D\" - zawierającą unikalne wartości odległości do najbliższego sąsiada uszeregowane od najmniejszej do największej wartości, dla których wyliczone zostały wartości funkcji F,\n",
    "        - \"F\" - zawierającą wyliczone wartości funkcji F.\n",
    "    \"\"\"  \n",
    "    # YOUR CODE HERE\n",
    "    raise NotImplementedError()"
   ]
  },
  {
   "cell_type": "markdown",
   "id": "3f4b235e-3d2b-4bbe-853c-5a2460505ad2",
   "metadata": {
    "deletable": false,
    "editable": false,
    "nbgrader": {
     "cell_type": "markdown",
     "checksum": "5f97608d9fa651924b6c6f433b4e892b",
     "grade": false,
     "grade_id": "cell-f5e429399234f312",
     "locked": true,
     "schema_version": 3,
     "solution": false,
     "task": false
    },
    "tags": []
   },
   "source": [
    "#### b) Wygenerowanie danych"
   ]
  },
  {
   "cell_type": "code",
   "execution_count": null,
   "id": "8ff13863-9b86-4819-9eb9-ebb6701c1c06",
   "metadata": {
    "deletable": false,
    "nbgrader": {
     "cell_type": "code",
     "checksum": "8e1fda0844e89425c411ce0228b7c72c",
     "grade": true,
     "grade_id": "cell-3642c42670a5da2b",
     "locked": false,
     "points": 3,
     "schema_version": 3,
     "solution": true,
     "task": false
    },
    "tags": []
   },
   "outputs": [],
   "source": [
    "# YOUR CODE HERE\n",
    "raise NotImplementedError()"
   ]
  },
  {
   "cell_type": "markdown",
   "id": "5860f5a4-2d16-4597-a393-bf2f50af41fe",
   "metadata": {
    "deletable": false,
    "editable": false,
    "nbgrader": {
     "cell_type": "markdown",
     "checksum": "489c398a4391a2ec8823b96541855ba5",
     "grade": false,
     "grade_id": "cell-67cbb8ff558cb62c",
     "locked": true,
     "schema_version": 3,
     "solution": false,
     "task": false
    },
    "tags": []
   },
   "source": [
    "#### c) Wizualizacja"
   ]
  },
  {
   "cell_type": "code",
   "execution_count": null,
   "id": "c4f3d4ae-6ed8-4fe7-a753-36fd2ee43dee",
   "metadata": {
    "deletable": false,
    "nbgrader": {
     "cell_type": "code",
     "checksum": "2639b73cb11a8ed0a8a5a18434705da9",
     "grade": true,
     "grade_id": "cell-3b3177d764da72b8",
     "locked": false,
     "points": 7,
     "schema_version": 3,
     "solution": true,
     "task": false
    },
    "tags": []
   },
   "outputs": [],
   "source": [
    "# YOUR CODE HERE\n",
    "raise NotImplementedError()"
   ]
  }
 ],
 "metadata": {
  "kernelspec": {
   "display_name": "Python 3 (ipykernel)",
   "language": "python",
   "name": "python3"
  },
  "language_info": {
   "codemirror_mode": {
    "name": "ipython",
    "version": 3
   },
   "file_extension": ".py",
   "mimetype": "text/x-python",
   "name": "python",
   "nbconvert_exporter": "python",
   "pygments_lexer": "ipython3",
   "version": "3.9.7"
  }
 },
 "nbformat": 4,
 "nbformat_minor": 5
}
