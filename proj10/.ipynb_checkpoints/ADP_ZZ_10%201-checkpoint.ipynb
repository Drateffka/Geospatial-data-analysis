{
  "cells": [
    {
      "cell_type": "markdown",
      "source": [
        "# Analiza danych przestrzennych - ćwiczenia laboratoryjne 2022/2023\n",
        "\n",
        "Ten notatnik zalicza się do grupy zestawów zadań, na podstawie których odbywa się zaliczenie ćwiczeń i podlega zwrotowi do oceny w ustalonym na zajęciach terminie.\n",
        "\n",
        "Uwagi ogólne:\n",
        "- Podczas wykonywania zadań należy korzystać wyłącznie z pakietów zaimportowanych na początku notatnika oraz z pakietów wchodzących w skład standardowej biblioteki Pythona, które można zaimportować samodzielnie we wskazanej komórce.\n",
        "- Swoje rozwiązania należy wprowadzać wyłącznie w miejce następujących fragmentów kodu:<br/> ` # YOUR CODE HERE`<br/> ` raise NotImplementedError()`<br/> Nie należy w żaden sposób modyfikować pozostałych fragmentów kodu oraz elementów notatnika, w szczególności dodawać lub usuwać komórek oraz zmieniać nazwy pliku.\n",
        "- Jeżeli zestaw zadań wymaga skorzystania z funkcji przygotowanych w ramach wcześniejszych zestawów zadań należy je umieścić we wskazanej komórce.\n",
        "- Wszystkie wykresy powinny być wykonane w jednolitym, przejrzystym i czytelnym stylu, mieć nadane tytuły, opisane osie oraz odpowiednio dobrany rozmiar, wielkość punktów i grubość linii. Proporcje osi wykresów przedstawiających rozkłady punktów powinny być dobrane tak, aby wykresy odzwierciedlały rzeczywisty rozkład punktów w przestrzeni.\n",
        "- Zadania, które powodują wyświetlenie komunikatu o błędzie przerywającym wykonywanie kodu nie podlegają ocenie.\n",
        "\n",
        "Przed odesłaniem zestawu zadań do oceny proszę uzupełnić komórkę z danymi autorów rozwiązania (`NAME` - nazwa grupy, `COLLABORATORS` - imiona, nazwiska i numery indeksów członków grupy) oraz upewnić się, że notatnik działa zgodnie z oczekiwaniami. W tym celu należy skorzystać z opcji **Restart Kernel and Run All Cells...** dostępnej na górnej belce notatnika pod symbolem $\\blacktriangleright\\blacktriangleright$. "
      ],
      "metadata": {
        "deletable": false,
        "editable": false,
        "nbgrader": {
          "cell_type": "markdown",
          "checksum": "a4d572b9cb35f7417343f3db3cd5a898",
          "grade": false,
          "grade_id": "cell-fcd2666579131b77",
          "locked": true,
          "schema_version": 3,
          "solution": false,
          "task": false
        },
        "tags": []
      },
      "id": "9bac3ea2"
    },
    {
      "cell_type": "code",
      "source": [
        "NAME = \"\"\n",
        "COLLABORATORS = \"\""
      ],
      "outputs": [],
      "execution_count": null,
      "metadata": {},
      "id": "891798e8"
    },
    {
      "cell_type": "markdown",
      "source": [
        "---"
      ],
      "metadata": {
        "deletable": false,
        "editable": false,
        "nbgrader": {
          "cell_type": "markdown",
          "checksum": "eddc8826810e4a6f7bf68319da334bd9",
          "grade": false,
          "grade_id": "cell-109006d425e5cf83",
          "locked": true,
          "schema_version": 3,
          "solution": false,
          "task": false
        },
        "tags": []
      },
      "id": "1b588e2e"
    },
    {
      "cell_type": "markdown",
      "source": [
        "## Zestaw zadań 10: Analiza danych przestrzennych z wykorzystaniem pakietów GeoPandas i PySAL (część 4)"
      ],
      "metadata": {
        "deletable": false,
        "editable": false,
        "nbgrader": {
          "cell_type": "markdown",
          "checksum": "28d3f55f0531741afc43c0dcd07debf8",
          "grade": false,
          "grade_id": "cell-be413733df21fa86",
          "locked": true,
          "schema_version": 3,
          "solution": false,
          "task": false
        },
        "tags": []
      },
      "id": "09ae627f-7781-432c-92be-054e5c5f19d0"
    },
    {
      "cell_type": "code",
      "source": [
        "import numpy as np\n",
        "import pandas as pd\n",
        "import scipy as sp\n",
        "import matplotlib as mpl\n",
        "import matplotlib.pyplot as plt\n",
        "import seaborn as sns\n",
        "import geopandas as gpd\n",
        "import libpysal as ps\n",
        "import pointpats as pp\n",
        "\n",
        "import warnings\n",
        "warnings.simplefilter(action='ignore', category=FutureWarning)"
      ],
      "outputs": [],
      "execution_count": null,
      "metadata": {
        "deletable": false,
        "editable": false,
        "nbgrader": {
          "cell_type": "code",
          "checksum": "29dc1af3dadc2aa89c6596343c570512",
          "grade": false,
          "grade_id": "cell-baaf088fa7f91aec",
          "locked": true,
          "schema_version": 3,
          "solution": false,
          "task": false
        },
        "tags": []
      },
      "id": "1d9566ae-0c1b-4f68-9203-c5924a3651ae"
    },
    {
      "cell_type": "code",
      "source": [
        "# Miejsce do importu pakietów wchodzących w skład standardowej biblioteki Pythona oraz ustawienie opcji wykorzystywanych pakietów"
      ],
      "outputs": [],
      "execution_count": null,
      "metadata": {},
      "id": "316bb8bc-c226-49f2-9e30-21fcf0edd040"
    },
    {
      "cell_type": "code",
      "source": [
        "# Miejsce do wklejenie funkcji ze wcześniejszych zestawów zadań\n",
        "# YOUR CODE HERE\n",
        "raise NotImplementedError()"
      ],
      "outputs": [],
      "execution_count": null,
      "metadata": {
        "deletable": false,
        "nbgrader": {
          "cell_type": "code",
          "checksum": "5e21d8dca6b79b399dc8ed524cfa7b27",
          "grade": true,
          "grade_id": "cell-a46c08df43df6fd7",
          "locked": false,
          "points": 0,
          "schema_version": 3,
          "solution": true,
          "task": false
        },
        "tags": []
      },
      "id": "c6aefef5-b6e6-4e97-a057-747d6510634c"
    },
    {
      "cell_type": "markdown",
      "source": [
        "#### UWAGA!\n",
        "Znaczna część przykładów i dokumentacji modułów wchodzących w skład pakietu pysal dostępna w internecie nie dotyczny ich najnowszych wersji.\n",
        "Z tego powodu lepiej jest zdobywać informacje na temat wykorzystywanych modułów, klas i funkcji z wykorzystaniem funkcji help(), np.: help(ps), help(pp), help(pp.pointpattern)."
      ],
      "metadata": {
        "deletable": false,
        "editable": false,
        "nbgrader": {
          "cell_type": "markdown",
          "checksum": "ce342baf7e0f810bc9ae826b7dcea483",
          "grade": false,
          "grade_id": "cell-f9831d700fb0566c",
          "locked": true,
          "schema_version": 3,
          "solution": false,
          "task": false
        },
        "tags": []
      },
      "id": "603eda5e-a368-4dd6-ae49-964d6b182347"
    },
    {
      "cell_type": "markdown",
      "source": [
        "### Import i przygotowanie danych\n",
        "Wykorzystując funkcję `geopandas.read_file()` zaimportuj do notatnika dane z dołączonych do niego plików (zakres importowanych danych i odwzorowanie kartograficzne nie wymagają zmian)."
      ],
      "metadata": {
        "deletable": false,
        "editable": false,
        "nbgrader": {
          "cell_type": "markdown",
          "checksum": "ee1299ea94bc5cea08729742690f75a1",
          "grade": false,
          "grade_id": "cell-3d9b6dc04e7b8e64",
          "locked": true,
          "schema_version": 3,
          "solution": false,
          "task": false
        },
        "tags": []
      },
      "id": "11653a05-5bd0-4169-87cb-e5173bd99c66"
    },
    {
      "cell_type": "code",
      "source": [
        "# YOUR CODE HERE\n",
        "raise NotImplementedError()"
      ],
      "outputs": [],
      "execution_count": null,
      "metadata": {
        "deletable": false,
        "nbgrader": {
          "cell_type": "code",
          "checksum": "43c81c920584796425ffe70816bfb4d0",
          "grade": true,
          "grade_id": "cell-9c5827e1303cedf5",
          "locked": false,
          "points": 0,
          "schema_version": 3,
          "solution": true,
          "task": false
        },
        "tags": []
      },
      "id": "1ec93e1d-9486-4e87-a1f2-ebdfdcc82dcc"
    },
    {
      "cell_type": "markdown",
      "source": [
        "### Zadanie 1: Autokorelacja przestrzenna danych (25 pkt)\n",
        "\n",
        "Przygotuj funkcję `spatial_autocorelation_data()`, która będzie przygotowywać dane niezbędne do oceny autokorelacji przestrzennej analizowanych danych.\n",
        "\n",
        "Schemat postępowania:\n",
        "- zagreguj dane na obszarze poszczegolnych powiatów (ze względu na różnice w powierzchni obszarów skorzystaj z wyliczonych dla nich wartości intensywności, a nie samej liczby zliczeń w ich obrębie),\n",
        "- wyznacz macierz wag przestrzennych,\n",
        "- wylicz opóźnienie przestrzenne,\n",
        "- przygotuj dane niezbędne do wykonania wykresu Morana.\n",
        "\n",
        "Następnie wykorzystaj przygotowane funkcje do oceny autokorelacji przestrzennej rozkładów punktów z plików points_2.zip i points_3.zip.\n",
        "Przedstaw wyniki analizy graficznie w postaci kartogramów intensywności i opóźnienia przestrzennego z nałożonymi na nie rozkładami punktów oraz za pomocą wykresów Morana. Zestaw wyniki na pojedynczej figurze (siatka wykresów 2x3).\n",
        "\n",
        "Przydatne klasy i funkcje:\n",
        "- `libpysal.weights.Queen()`\n",
        "- `libpysal.weights.Rook()`\n",
        "- `libpysal.weights.spatial_lag.lag_spatial()`"
      ],
      "metadata": {
        "deletable": false,
        "editable": false,
        "nbgrader": {
          "cell_type": "markdown",
          "checksum": "f3b72b6d3ea740fdc9ded96b2d33ed84",
          "grade": false,
          "grade_id": "cell-a9c7e5b3580a36b0",
          "locked": true,
          "schema_version": 3,
          "solution": false,
          "task": false
        },
        "tags": []
      },
      "id": "e689bc30-f8f3-4af8-98a0-ddab68eeb5c4"
    },
    {
      "cell_type": "markdown",
      "source": [
        "#### a) Przygotowanie funkcji"
      ],
      "metadata": {
        "deletable": false,
        "editable": false,
        "nbgrader": {
          "cell_type": "markdown",
          "checksum": "5353570b16455472431e4b89490ee75d",
          "grade": false,
          "grade_id": "cell-61d7f89ab3dff067",
          "locked": true,
          "schema_version": 3,
          "solution": false,
          "task": false
        },
        "tags": []
      },
      "id": "e4436b49-49fc-4990-89b8-3a237be4838d"
    },
    {
      "cell_type": "code",
      "source": [
        "def spatial_autocorelation_data(points, subregions):\n",
        "    \"\"\"\n",
        "    Parameters\n",
        "    -------\n",
        "    points: GeoSeries\n",
        "        Tablica zawierająca punkty zapisane jako obiekty shapely.geometry.point.Point.\n",
        "    subregions: GeoDataFrame\n",
        "        Tablica zawierająca geometrie podobszarów zapisane jako obiekty shapely.geometry.polygon.Polygon.\n",
        "    Returns\n",
        "    -------\n",
        "    moran_plot_data: GeoDataFrame\n",
        "        Obiekt GeoDataFrame zawierający następujące kolumny:\n",
        "        \"geometry\" - kolumna z geometrią podobszarów,\n",
        "        \"intensity\" - wartości intesywności procesu w obrębie poszczególnych podobszarów,\n",
        "        \"lag\" - wartości opóźnienia przestrzennego w obrębie poszczególnych podobszarów,\n",
        "        \"intensity_std\" - ustandaryzowane wartości intensywności.\n",
        "        \"lag_std\" - ustandaryzowane wartości opóźnienia przestrzennego.\n",
        "    \"\"\"\n",
        "    # YOUR CODE HERE\n",
        "    raise NotImplementedError()"
      ],
      "outputs": [],
      "execution_count": null,
      "metadata": {
        "deletable": false,
        "nbgrader": {
          "cell_type": "code",
          "checksum": "db8df7d3749d1b11e9f9da6be0f0c251",
          "grade": true,
          "grade_id": "cell-a95a4c2382040fd3",
          "locked": false,
          "points": 16,
          "schema_version": 3,
          "solution": true,
          "task": false
        },
        "tags": []
      },
      "id": "b3be96ac-27f9-48a9-9ade-7aab3d400582"
    },
    {
      "cell_type": "markdown",
      "source": [
        "#### b) Wygenerowanie danych"
      ],
      "metadata": {
        "deletable": false,
        "editable": false,
        "nbgrader": {
          "cell_type": "markdown",
          "checksum": "81263f86eacd34b1a6192443f1002ba8",
          "grade": false,
          "grade_id": "cell-f815e6a593bbdee0",
          "locked": true,
          "schema_version": 3,
          "solution": false,
          "task": false
        },
        "tags": []
      },
      "id": "f7fdddea-ec6e-424e-970b-91c91262d419"
    },
    {
      "cell_type": "code",
      "source": [
        "# YOUR CODE HERE\n",
        "raise NotImplementedError()"
      ],
      "outputs": [],
      "execution_count": null,
      "metadata": {
        "deletable": false,
        "nbgrader": {
          "cell_type": "code",
          "checksum": "3095d83ed84557f3703b8d101e78b9ea",
          "grade": true,
          "grade_id": "cell-cabc13b36fb45632",
          "locked": false,
          "points": 2,
          "schema_version": 3,
          "solution": true,
          "task": false
        },
        "tags": []
      },
      "id": "1338f19a-f00b-4cce-b67f-d0b92616deb8"
    },
    {
      "cell_type": "markdown",
      "source": [
        "#### c) Wizualizacja"
      ],
      "metadata": {
        "deletable": false,
        "editable": false,
        "nbgrader": {
          "cell_type": "markdown",
          "checksum": "70c9bb68aa724f5c52a504ada843c22c",
          "grade": false,
          "grade_id": "cell-11787190e63930e3",
          "locked": true,
          "schema_version": 3,
          "solution": false,
          "task": false
        },
        "tags": []
      },
      "id": "94727d96-f42c-448c-bdf9-121fc58db068"
    },
    {
      "cell_type": "code",
      "source": [
        "# YOUR CODE HERE\n",
        "raise NotImplementedError()"
      ],
      "outputs": [],
      "execution_count": null,
      "metadata": {
        "deletable": false,
        "nbgrader": {
          "cell_type": "code",
          "checksum": "62f621ece514cf7578023889f3bd3bfa",
          "grade": true,
          "grade_id": "cell-2c443914a23cc0f2",
          "locked": false,
          "points": 7,
          "schema_version": 3,
          "solution": true,
          "task": false
        },
        "tags": []
      },
      "id": "fa830341-e673-4da2-8631-173b642d7d10"
    }
  ],
  "metadata": {
    "kernelspec": {
      "name": "python",
      "language": "python",
      "display_name": "Pyolite (preview)"
    },
    "language_info": {
      "codemirror_mode": {
        "name": "python",
        "version": 3
      },
      "file_extension": ".py",
      "mimetype": "text/x-python",
      "name": "python",
      "nbconvert_exporter": "python",
      "pygments_lexer": "ipython3",
      "version": "3.8"
    },
    "kernel_info": {
      "name": "python"
    },
    "nteract": {
      "version": "nteract-front-end@1.0.0"
    }
  },
  "nbformat": 4,
  "nbformat_minor": 5
}